{
  "cells": [
    {
      "cell_type": "code",
      "execution_count": null,
      "metadata": {
        "id": "e5yPV3x_MpSv"
      },
      "outputs": [],
      "source": [
        "!git clone https://github.com/Glowman554/discord-gpt-2"
      ]
    },
    {
      "cell_type": "code",
      "execution_count": null,
      "metadata": {
        "id": "gunEOCllNIu4"
      },
      "outputs": [],
      "source": [
        "!cd discord-gpt-2;\\\n",
        "sudo pip3 install -r requirements.txt\n"
      ]
    },
    {
      "cell_type": "code",
      "execution_count": null,
      "metadata": {
        "id": "qRiLuoeINNWZ"
      },
      "outputs": [],
      "source": [
        "from google.colab import files\n",
        "uploaded = files.upload()"
      ]
    },
    {
      "cell_type": "code",
      "execution_count": null,
      "metadata": {
        "id": "Xac_mxbTQk3l"
      },
      "outputs": [],
      "source": [
        "!cd discord-gpt-2;\\\n",
        "python3 download_model.py 124M;\\\n",
        "python3 src/encode.py ../dataset.txt dataset.npz --model_name 124M"
      ]
    },
    {
      "cell_type": "code",
      "execution_count": null,
      "metadata": {
        "id": "nUlQn5k3jDJO"
      },
      "outputs": [],
      "source": [
        "from google.colab import drive\n",
        "drive.mount('/gdrive')\n",
        "\n",
        "!mkdir -p discord-gpt-2/checkpoint/run1\n",
        "!cp -rv /gdrive/My\\ Drive/discord_gpt2_train/* discord-gpt-2/checkpoint/run1/.\n",
        "\n",
        "drive.flush_and_unmount()"
      ]
    },
    {
      "cell_type": "code",
      "execution_count": null,
      "metadata": {
        "id": "qYJHATNGQ_HG"
      },
      "outputs": [],
      "source": [
        "!cd discord-gpt-2;\\\n",
        "python3 src/train.py --dataset dataset.npz --save_every 100 --sample_every 100 --sample_num 3"
      ]
    },
    {
      "cell_type": "code",
      "execution_count": null,
      "metadata": {
        "id": "M9wCJJWHZxdC"
      },
      "outputs": [],
      "source": [
        "!cd discord-gpt-2;\\\n",
        "python3 src/generate_samples.py --nsamples 10"
      ]
    },
    {
      "cell_type": "code",
      "execution_count": null,
      "metadata": {
        "id": "FSkjRYr_eaeD"
      },
      "outputs": [],
      "source": [
        "with open(\"discord-gpt-2/checkpoint/run1/checkpoint\") as f:\n",
        "  checkpoint_data = f.read()\n",
        "\n",
        "curr_model = None\n",
        "\n",
        "for i in checkpoint_data.split(\"\\n\"):\n",
        "  checkpoint_entry = i.split(\": \")\n",
        "  if checkpoint_entry[0].strip() == \"model_checkpoint_path\":\n",
        "    curr_model = checkpoint_entry[1].strip().replace(\"\\\"\", \"\")\n",
        "\n",
        "print(curr_model)\n",
        "\n",
        "\n",
        "\n",
        "from google.colab import drive\n",
        "drive.mount('/gdrive')\n",
        "\n",
        "!mkdir /gdrive/My\\ Drive/discord_gpt2_train/ -v -p\n",
        "!rm -rfv /gdrive/My\\ Drive/discord_gpt2_train/*\n",
        "\n",
        "from shutil import copyfile\n",
        "\n",
        "copyfile(\"discord-gpt-2/checkpoint/run1/counter\", \"/gdrive/My Drive/discord_gpt2_train/counter\")\n",
        "copyfile(f\"discord-gpt-2/checkpoint/run1/{curr_model}.data-00000-of-00001\", f\"/gdrive/My Drive/discord_gpt2_train/{curr_model}.data-00000-of-00001\")\n",
        "copyfile(f\"discord-gpt-2/checkpoint/run1/{curr_model}.index\", f\"/gdrive/My Drive/discord_gpt2_train/{curr_model}.index\")\n",
        "copyfile(f\"discord-gpt-2/checkpoint/run1/{curr_model}.meta\", f\"/gdrive/My Drive/discord_gpt2_train/{curr_model}.meta\")\n",
        "\n",
        "with open(\"/gdrive/My Drive/discord_gpt2_train/checkpoint\", \"w\") as f:\n",
        "  f.write(f\"model_checkpoint_path: \\\"{curr_model}\\\"\")\n",
        "\n",
        "drive.flush_and_unmount()\n"
      ]
    }
  ],
  "metadata": {
    "accelerator": "GPU",
    "colab": {
      "collapsed_sections": [],
      "name": "train_gpt2.ipynb",
      "private_outputs": true,
      "provenance": []
    },
    "kernelspec": {
      "display_name": "Python 3",
      "name": "python3"
    },
    "language_info": {
      "name": "python"
    }
  },
  "nbformat": 4,
  "nbformat_minor": 0
}
